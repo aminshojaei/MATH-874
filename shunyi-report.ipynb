{
 "cells": [
  {
   "cell_type": "markdown",
   "metadata": {},
   "source": [
    "# Homework 1\n",
    "#### Submitted by Amin Shojaeighadikolaei   Feb-11-2020"
   ]
  },
  {
   "cell_type": "markdown",
   "metadata": {},
   "source": [
    "### Shunyi Data"
   ]
  },
  {
   "cell_type": "markdown",
   "metadata": {},
   "source": [
    "In this homework I want to apply gradient descent algorithm on Shunyi dataset. In this algorithm I wanna apply an iterative algorithm to find the B matrix. The important thing in this project is I do not want to use Pandas and Numpy library. \n",
    "At first I will import those libraries which are needed.\n"
   ]
  },
  {
   "cell_type": "code",
   "execution_count": 1,
   "metadata": {},
   "outputs": [],
   "source": [
    "import csv\n",
    "import random"
   ]
  },
  {
   "cell_type": "markdown",
   "metadata": {},
   "source": [
    "Now I want to just define 3 function which are needed. The first one is createMatrix which has 3 inputs. The first 2 inputs are matrix and the third one is operation. These operations are included in this function:\n",
    "- Create a random matrix ( random )\n",
    "- Multiply of two matrix ( multiply )\n",
    "- Subtraction of two matrix ( minus )\n",
    "- Addition of two matrix ( plus )\n",
    "So it is just needed to give 2 matrix and the operation name as input.\n",
    "\n",
    "The second function is ChangeMatrix which is for changing a matrix. Such as:\n",
    "- Transpose a matrix ( transpose )\n",
    "- Multiply a matrix by a scalar ( scalar_multiply )\n",
    "In this function there are just 2 input. A matrix and operation name.\n",
    "\n",
    "The next function is related to computing the loss.\n"
   ]
  },
  {
   "cell_type": "code",
   "execution_count": 2,
   "metadata": {},
   "outputs": [],
   "source": [
    "alpha = 0.0001\n",
    "def createMatrix(A, B , operation):   \n",
    "    \n",
    "    if operation == 'random':\n",
    "        random_matrix = []\n",
    "        for i in range (A):\n",
    "            rowList = []\n",
    "            for j in range (B):\n",
    "                rowList.append(random.random())\n",
    "            random_matrix.append(rowList)\n",
    "        \n",
    "        return random_matrix \n",
    "    \n",
    "    if operation == 'multiply':\n",
    "    \n",
    "        if len(A[0]) != len(B):\n",
    "            assert 'incorrect dimensions'\n",
    "    \n",
    "        new_matrix = []\n",
    "        for i in range(len(A)):\n",
    "            Row = []\n",
    "            for j in range(len(B[0])):\n",
    "                q = 0\n",
    "                for k in range(max(len(A[0]), len(B))):\n",
    "                    q += A[i][k] * B[k][j]\n",
    "                Row.append(q)\n",
    "            new_matrix.append(Row)\n",
    "        return new_matrix\n",
    "    \n",
    "    if operation == 'minus':\n",
    "        if len(A[0]) != len(B[0]) or len(A) != len(B):\n",
    "            assert 'incorrect dimensions'\n",
    "    \n",
    "        new_matrix = []\n",
    "        for i in range(len(A)):\n",
    "            Row = []\n",
    "            for j in range(len(A[0])):\n",
    "                q = A[i][j] - B[i][j]\n",
    "                Row.append(q)\n",
    "            new_matrix.append(Row)\n",
    "        return new_matrix\n",
    "    \n",
    "    if operation == 'plus':\n",
    "        if len(A[0]) != len(B[0]) or len(A) != len(B):\n",
    "            assert 'incorrect dimensions'\n",
    "    \n",
    "        new_matrix = []\n",
    "        for i in range(len(A)):\n",
    "            Row = []\n",
    "            for j in range(len(A[0])):\n",
    "                q = A[i][j] + B[i][j]\n",
    "                Row.append(q)\n",
    "            new_matrix.append(Row)\n",
    "        return new_matrix\n",
    "    \n",
    "    \n",
    "    \n",
    "    \n",
    "def ChangeMatrix ( A , operation):\n",
    "    \n",
    "    if operation == 'transpose':\n",
    "        Transpose = []\n",
    "        for _ in range(len(A[0])):\n",
    "            tR = []\n",
    "            for _ in range(len(A)):\n",
    "                tR.append(None)\n",
    "            Transpose.append(tR)\n",
    "    \n",
    "        for i in range(len(A[0])):\n",
    "            for j in range(len(A)):\n",
    "                Transpose[i][j] = A[j][i]\n",
    "        return Transpose\n",
    "    \n",
    "    if operation == 'scalar_multiply':\n",
    "        new_matrix = []\n",
    "        for i in range(len(A)):\n",
    "            Row = []\n",
    "            for j in range(len(A[0])):\n",
    "                q = A[i][j] * alpha\n",
    "                Row.append(q)\n",
    "            new_matrix.append(Row)\n",
    "        return new_matrix\n",
    "         \n",
    "    \n",
    "def Loss(e):\n",
    "    loss = []\n",
    "    for i in e:\n",
    "        sampleLoss = 0\n",
    "        for j in i:\n",
    "            sampleLoss += j\n",
    "        loss.append(sampleLoss)\n",
    "    return sum(loss) / len(loss)   \n",
    "    "
   ]
  },
  {
   "cell_type": "markdown",
   "metadata": {},
   "source": [
    "Now I want to read the dataset. For doing this I do not want to use pandas library , which is more powerful that this way. For doing this and then creating X and Y as input and output of the Neural Network , we can apply these codes."
   ]
  },
  {
   "cell_type": "code",
   "execution_count": 3,
   "metadata": {},
   "outputs": [],
   "source": [
    "with open('PRSA_Data_Shunyi_20130301-20170228.csv','r') as shunyi:\n",
    "    \n",
    "    reader = csv.reader(shunyi, delimiter=',', quotechar='|')\n",
    "    input_dataset=[]\n",
    "    output_dataset=[]\n",
    "    # here I wanna read each row of the dataset\n",
    "    for i, row in enumerate(reader):\n",
    "        input_sample=[]\n",
    "        output_sample=[]\n",
    "        if i > 0 :\n",
    "            NA_value=False\n",
    "            for N_column , value in enumerate(row):\n",
    "                if value == 'NA':\n",
    "                    NA_value = True\n",
    "                    break\n",
    "                if N_column in [2, 4, 11, 12, 13, 16]:\n",
    "                    input_sample.append(float(value))\n",
    "                if N_column in [5,6,7,8,9,10]:\n",
    "                    output_sample.append(float(value))\n",
    "            \n",
    "            if NA_value == False:\n",
    "                input_dataset.append(input_sample)\n",
    "                output_dataset.append(output_sample) "
   ]
  },
  {
   "cell_type": "markdown",
   "metadata": {},
   "source": [
    "This approach is based on reading each row of the dataset. Since the first row is the headers not the values, I applied i>0 . And whenever any NA value is detected, that row will not selected. In addition, N_columns = [2,4,11,12,13,16] show those input columns and N_columns = [5,6,7,8,9,10] show output columns as bellow:\n",
    "- input features: 'month' , 'hour' , 'TEMP' , PRES' , 'DEWP' , 'WSPM'\n",
    "- output labels:  'PM2.5' , 'PM10' , 'SO2' , 'NO2' , 'CO' , 'O3'"
   ]
  },
  {
   "cell_type": "markdown",
   "metadata": {},
   "source": [
    "As we know, the dimention of the X( input_dataset) is n*(p+1). So for adding a column 1 which is bias for Neural Network, I add these lines "
   ]
  },
  {
   "cell_type": "code",
   "execution_count": 4,
   "metadata": {},
   "outputs": [],
   "source": [
    "for i in input_dataset:\n",
    "    i.append(1)"
   ]
  },
  {
   "cell_type": "code",
   "execution_count": 5,
   "metadata": {},
   "outputs": [],
   "source": [
    "X = input_dataset\n",
    "Y = output_dataset\n",
    "B= createMatrix (7,6, 'random')"
   ]
  },
  {
   "cell_type": "markdown",
   "metadata": {},
   "source": [
    "Now the main design is provided as following. As you can see at first the matrix XB is provided and then (Y-XB) is defined. in next step x^T(Y-XB) is computing. In next, αx^T (Y-XB) is computing and then B^next=B+ αx^T (Y-XB). This is an iterative algorithm to update B at any Episode.\n",
    "    "
   ]
  },
  {
   "cell_type": "code",
   "execution_count": null,
   "metadata": {},
   "outputs": [],
   "source": [
    "Episode = 0\n",
    "while Episode < 50:\n",
    "    \n",
    "    y = createMatrix(X, B , 'multiply')\n",
    "    Error = createMatrix(Y, y, 'minus')\n",
    "    delta = createMatrix(ChangeMatrix(X , 'transpose'), Error,'multiply')\n",
    "    delta = ChangeMatrix(delta , 'scalar_multiply')\n",
    "    B = createMatrix(B, delta , 'plus')\n",
    "    loss = Loss(Error)\n",
    "#    \n",
    "#    print('Episode: %d, Loss value is: %.4f' % (Episode, loss))\n",
    "#    \n",
    "    Episode+=1\n",
    "  "
   ]
  },
  {
   "cell_type": "markdown",
   "metadata": {},
   "source": [
    "### Conclusion:"
   ]
  },
  {
   "cell_type": "markdown",
   "metadata": {},
   "source": [
    "There is a problem in this algorithm in which the output loss is oscillating and it goes to infinit value. I tried to solve the problem but unfortunately, it did not solved. I hope to solve it in the future."
   ]
  }
 ],
 "metadata": {
  "kernelspec": {
   "display_name": "Python 3",
   "language": "python",
   "name": "python3"
  },
  "language_info": {
   "codemirror_mode": {
    "name": "ipython",
    "version": 3
   },
   "file_extension": ".py",
   "mimetype": "text/x-python",
   "name": "python",
   "nbconvert_exporter": "python",
   "pygments_lexer": "ipython3",
   "version": "3.7.4"
  }
 },
 "nbformat": 4,
 "nbformat_minor": 2
}
