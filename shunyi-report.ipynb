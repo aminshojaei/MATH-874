{
 "cells": [
  {
   "cell_type": "markdown",
   "metadata": {},
   "source": [
    "### Shunyi Data"
   ]
  },
  {
   "cell_type": "markdown",
   "metadata": {},
   "source": [
    "In this homework I want to apply gradient descent algorithm on Shunyi dataset. In this algorithm I wanna apply an iterative algorithm to find the B matrix. The important thing in this project is I do not want to use Pandas and Numpy library. \n",
    "At first I will import those libraries which are needed.\n"
   ]
  },
  {
   "cell_type": "code",
   "execution_count": 1,
   "metadata": {},
   "outputs": [],
   "source": [
    "import csv\n",
    "import random"
   ]
  },
  {
   "cell_type": "markdown",
   "metadata": {},
   "source": [
    "Now I want to just define 3 function which are needed. The first one is createMatrix which has 3 inputs. The first 2 inputs are matrix and the third one is operation. These operations are included in this function:\n",
    "- Create a random matrix ( random )\n",
    "- Multiply of two matrix ( multiply )\n",
    "- Subtraction of two matrix ( minus )\n",
    "- Addition of two matrix ( plus )\n",
    "So it is just needed to give 2 matrix and the operation name as input.\n",
    "\n",
    "The second function is ChangeMatrix which is for changing a matrix. Such as:\n",
    "- Transpose a matrix ( transpose )\n",
    "- Multiply a matrix by a scalar ( scalar_multiply )\n",
    "In this function there are just 2 input. A matrix and operation name.\n",
    "\n",
    "The next function is related to computing the loss.\n"
   ]
  },
  {
   "cell_type": "code",
   "execution_count": 2,
   "metadata": {},
   "outputs": [],
   "source": [
    "alpha = 0.0001\n",
    "def createMatrix(A, B , operation):   \n",
    "    \n",
    "    if operation == 'random':\n",
    "        random_matrix = []\n",
    "        for i in range (A):\n",
    "            rowList = []\n",
    "            for j in range (B):\n",
    "                rowList.append(random.random())\n",
    "            random_matrix.append(rowList)\n",
    "        \n",
    "        return random_matrix \n",
    "    \n",
    "    if operation == 'multiply':\n",
    "    \n",
    "        if len(A[0]) != len(B):\n",
    "            assert 'incorrect dimensions'\n",
    "    \n",
    "        new_matrix = []\n",
    "        for i in range(len(A)):\n",
    "            Row = []\n",
    "            for j in range(len(B[0])):\n",
    "                q = 0\n",
    "                for k in range(max(len(A[0]), len(B))):\n",
    "                    q += A[i][k] * B[k][j]\n",
    "                Row.append(q)\n",
    "            new_matrix.append(Row)\n",
    "        return new_matrix\n",
    "    \n",
    "    if operation == 'minus':\n",
    "        if len(A[0]) != len(B[0]) or len(A) != len(B):\n",
    "            assert 'incorrect dimensions'\n",
    "    \n",
    "        new_matrix = []\n",
    "        for i in range(len(A)):\n",
    "            Row = []\n",
    "            for j in range(len(A[0])):\n",
    "                q = A[i][j] - B[i][j]\n",
    "                Row.append(q)\n",
    "            new_matrix.append(Row)\n",
    "        return new_matrix\n",
    "    \n",
    "    if operation == 'plus':\n",
    "        if len(A[0]) != len(B[0]) or len(A) != len(B):\n",
    "            assert 'incorrect dimensions'\n",
    "    \n",
    "        new_matrix = []\n",
    "        for i in range(len(A)):\n",
    "            Row = []\n",
    "            for j in range(len(A[0])):\n",
    "                q = A[i][j] + B[i][j]\n",
    "                Row.append(q)\n",
    "            new_matrix.append(Row)\n",
    "        return new_matrix\n",
    "    \n",
    "    \n",
    "    \n",
    "    \n",
    "def ChangeMatrix ( A , operation):\n",
    "    \n",
    "    if operation == 'transpose':\n",
    "        Transpose = []\n",
    "        for _ in range(len(A[0])):\n",
    "            tR = []\n",
    "            for _ in range(len(A)):\n",
    "                tR.append(None)\n",
    "            Transpose.append(tR)\n",
    "    \n",
    "        for i in range(len(A[0])):\n",
    "            for j in range(len(A)):\n",
    "                Transpose[i][j] = A[j][i]\n",
    "        return Transpose\n",
    "    \n",
    "    if operation == 'scalar_multiply':\n",
    "        new_matrix = []\n",
    "        for i in range(len(A)):\n",
    "            Row = []\n",
    "            for j in range(len(A[0])):\n",
    "                q = A[i][j] * alpha\n",
    "                Row.append(q)\n",
    "            new_matrix.append(Row)\n",
    "        return new_matrix\n",
    "         \n",
    "    \n",
    "def Loss(e):\n",
    "    loss = []\n",
    "    for i in e:\n",
    "        sampleLoss = 0\n",
    "        for j in i:\n",
    "            sampleLoss += j\n",
    "        loss.append(sampleLoss)\n",
    "    return sum(loss) / len(loss)   \n",
    "    "
   ]
  },
  {
   "cell_type": "markdown",
   "metadata": {},
   "source": [
    "Now I want to read the dataset. For doing this I do not want to use pandas library , which is more powerful that this way. For doing this and then creating X and Y as input and output of the Neural Network , we can apply these codes."
   ]
  },
  {
   "cell_type": "code",
   "execution_count": 3,
   "metadata": {},
   "outputs": [],
   "source": [
    "with open('PRSA_Data_Shunyi_20130301-20170228.csv','r') as shunyi:\n",
    "    \n",
    "    reader = csv.reader(shunyi, delimiter=',', quotechar='|')\n",
    "    input_dataset=[]\n",
    "    output_dataset=[]\n",
    "    # here I wanna read each row of the dataset\n",
    "    for i, row in enumerate(reader):\n",
    "        input_sample=[]\n",
    "        output_sample=[]\n",
    "        if i > 0 :\n",
    "            NA_value=False\n",
    "            for N_column , value in enumerate(row):\n",
    "                if value == 'NA':\n",
    "                    NA_value = True\n",
    "                    break\n",
    "                if N_column in [2, 4, 11, 12, 13, 16]:\n",
    "                    input_sample.append(float(value))\n",
    "                if N_column in [5,6,7,8,9,10]:\n",
    "                    output_sample.append(float(value))\n",
    "            \n",
    "            if NA_value == False:\n",
    "                input_dataset.append(input_sample)\n",
    "                output_dataset.append(output_sample) "
   ]
  },
  {
   "cell_type": "markdown",
   "metadata": {},
   "source": [
    "This approach is based on reading each row of the dataset. Since the first row is the headers not the values, I applied i>0 . And whenever any NA value is detected, that row will not selected. In addition, N_columns = [2,4,11,12,13,16] show those input columns and N_columns = [5,6,7,8,9,10] show output columns as bellow:\n",
    "- input features: 'month' , 'hour' , 'TEMP' , PRES' , 'DEWP' , 'WSPM'\n",
    "- output labels:  'PM2.5' , 'PM10' , 'SO2' , 'NO2' , 'CO' , 'O3'"
   ]
  },
  {
   "cell_type": "markdown",
   "metadata": {},
   "source": [
    "As we know, the dimention of the X( input_dataset) is n*(p+1). So for adding a column 1 which is bias for Neural Network, I add these lines "
   ]
  },
  {
   "cell_type": "code",
   "execution_count": 4,
   "metadata": {},
   "outputs": [],
   "source": [
    "for i in input_dataset:\n",
    "    i.append(1)"
   ]
  },
  {
   "cell_type": "code",
   "execution_count": 5,
   "metadata": {},
   "outputs": [],
   "source": [
    "X = input_dataset\n",
    "Y = output_dataset\n",
    "B= createMatrix (7,6, 'random')"
   ]
  },
  {
   "cell_type": "markdown",
   "metadata": {},
   "source": [
    "Now the main design is provided as following. As you can see at first the matrix XB is provided and then (Y-XB) is defined. in next step x^T(Y-XB) is computing. In next, αx^T (Y-XB) is computing and then B^next=B+ αx^T (Y-XB). This is an iterative algorithm to update B at any Episode.\n",
    "    "
   ]
  },
  {
   "cell_type": "code",
   "execution_count": 6,
   "metadata": {},
   "outputs": [
    {
     "name": "stdout",
     "output_type": "stream",
     "text": [
      "Episode: 0, Loss value is: -1631.3356\n",
      "1\n",
      "Episode: 1, Loss value is: 5057706259.1149\n",
      "2\n",
      "Episode: 2, Loss value is: -15697789628508540.0000\n",
      "3\n",
      "Episode: 3, Loss value is: 48721823071412508688384.0000\n",
      "4\n",
      "Episode: 4, Loss value is: -151219764040835706025723035648.0000\n",
      "5\n",
      "Episode: 5, Loss value is: 469346498037416691429542674275762176.0000\n",
      "6\n",
      "Episode: 6, Loss value is: -1456728468115497671213668763351868304785408.0000\n",
      "7\n",
      "Episode: 7, Loss value is: 4521303213492686909071924697074889444364063342592.0000\n",
      "8\n",
      "Episode: 8, Loss value is: -14032939697254987390512459941616638801115536902993215488.0000\n",
      "9\n",
      "Episode: 9, Loss value is: 43554565409177902045024179940294959790060546968033192893743104.0000\n",
      "10\n",
      "Episode: 10, Loss value is: -135181951102763530827800517487176512457469591172634438140307928252416.0000\n",
      "11\n",
      "Episode: 11, Loss value is: 419569331762845945827243172338547492108518437724214961594759323404138971136.0000\n",
      "12\n",
      "Episode: 12, Loss value is: -1302233195481098939719626335043287536443653131333333598066853844205129788311994368.0000\n",
      "13\n",
      "Episode: 13, Loss value is: 4041790395613150050398355431360324088512666569622600494321741171349070983214716980035584.0000\n",
      "14\n",
      "Episode: 14, Loss value is: -12544657637939913564920540998428593119032287349553276149087690092273500543459921579906487549952.0000\n",
      "15\n",
      "Episode: 15, Loss value is: 38935328121895702506092746071821119385154654879109316696904865582465130554598533641425398088303902720.0000\n",
      "16\n",
      "Episode: 16, Loss value is: -120845049718600788524321526762295555193481036259890628564960181905971237608760947472567587079645195088691200.0000\n",
      "17\n",
      "Episode: 17, Loss value is: 375071348975700356512711728486892188120239088936968401401203201244686056056472181077828982374681948431545767297024.0000\n",
      "18\n",
      "Episode: 18, Loss value is: -1164123124199438628785031871139466006684915593982187370684238128952174494664209891076838767083070115284917155718638862336.0000\n",
      "19\n",
      "Episode: 19, Loss value is: 3613132946562817587625434107588935335921595289719964017329838120809320373184719341547922938392011269754469515206742479938256896.0000\n",
      "20\n",
      "Episode: 20, Loss value is: -11214217309286049890156618569611658516676829158142434993521693842832089872938750381984920784948934222905580488288840116507308013387776.0000\n",
      "21\n"
     ]
    },
    {
     "ename": "KeyboardInterrupt",
     "evalue": "",
     "output_type": "error",
     "traceback": [
      "\u001b[1;31m---------------------------------------------------------------------------\u001b[0m",
      "\u001b[1;31mKeyboardInterrupt\u001b[0m                         Traceback (most recent call last)",
      "\u001b[1;32m<ipython-input-6-56a6d0ba4a87>\u001b[0m in \u001b[0;36m<module>\u001b[1;34m\u001b[0m\n\u001b[0;32m      4\u001b[0m     \u001b[0my\u001b[0m \u001b[1;33m=\u001b[0m \u001b[0mcreateMatrix\u001b[0m\u001b[1;33m(\u001b[0m\u001b[0mX\u001b[0m\u001b[1;33m,\u001b[0m \u001b[0mB\u001b[0m \u001b[1;33m,\u001b[0m \u001b[1;34m'multiply'\u001b[0m\u001b[1;33m)\u001b[0m\u001b[1;33m\u001b[0m\u001b[1;33m\u001b[0m\u001b[0m\n\u001b[0;32m      5\u001b[0m     \u001b[0mError\u001b[0m \u001b[1;33m=\u001b[0m \u001b[0mcreateMatrix\u001b[0m\u001b[1;33m(\u001b[0m\u001b[0mY\u001b[0m\u001b[1;33m,\u001b[0m \u001b[0my\u001b[0m\u001b[1;33m,\u001b[0m \u001b[1;34m'minus'\u001b[0m\u001b[1;33m)\u001b[0m\u001b[1;33m\u001b[0m\u001b[1;33m\u001b[0m\u001b[0m\n\u001b[1;32m----> 6\u001b[1;33m     \u001b[0mdelta\u001b[0m \u001b[1;33m=\u001b[0m \u001b[0mcreateMatrix\u001b[0m\u001b[1;33m(\u001b[0m\u001b[0mChangeMatrix\u001b[0m\u001b[1;33m(\u001b[0m\u001b[0mX\u001b[0m \u001b[1;33m,\u001b[0m \u001b[1;34m'transpose'\u001b[0m\u001b[1;33m)\u001b[0m\u001b[1;33m,\u001b[0m \u001b[0mError\u001b[0m\u001b[1;33m,\u001b[0m\u001b[1;34m'multiply'\u001b[0m\u001b[1;33m)\u001b[0m\u001b[1;33m\u001b[0m\u001b[1;33m\u001b[0m\u001b[0m\n\u001b[0m\u001b[0;32m      7\u001b[0m     \u001b[0mdelta\u001b[0m \u001b[1;33m=\u001b[0m \u001b[0mChangeMatrix\u001b[0m\u001b[1;33m(\u001b[0m\u001b[0mdelta\u001b[0m \u001b[1;33m,\u001b[0m \u001b[1;34m'scalar_multiply'\u001b[0m\u001b[1;33m)\u001b[0m\u001b[1;33m\u001b[0m\u001b[1;33m\u001b[0m\u001b[0m\n\u001b[0;32m      8\u001b[0m     \u001b[0mB\u001b[0m \u001b[1;33m=\u001b[0m \u001b[0mcreateMatrix\u001b[0m\u001b[1;33m(\u001b[0m\u001b[0mB\u001b[0m\u001b[1;33m,\u001b[0m \u001b[0mdelta\u001b[0m \u001b[1;33m,\u001b[0m \u001b[1;34m'plus'\u001b[0m\u001b[1;33m)\u001b[0m\u001b[1;33m\u001b[0m\u001b[1;33m\u001b[0m\u001b[0m\n",
      "\u001b[1;31mKeyboardInterrupt\u001b[0m: "
     ]
    }
   ],
   "source": [
    "Episode = 0\n",
    "while Episode < 100:\n",
    "    \n",
    "    y = createMatrix(X, B , 'multiply')\n",
    "    Error = createMatrix(Y, y, 'minus')\n",
    "    delta = createMatrix(ChangeMatrix(X , 'transpose'), Error,'multiply')\n",
    "    delta = ChangeMatrix(delta , 'scalar_multiply')\n",
    "    B = createMatrix(B, delta , 'plus')\n",
    "    loss = Loss(Error)\n",
    "#    \n",
    "    print('Episode: %d, Loss value is: %.4f' % (Episode, loss))\n",
    "#    \n",
    "    Episode+=1\n",
    "    print(Episode)"
   ]
  },
  {
   "cell_type": "markdown",
   "metadata": {},
   "source": [
    "### Conclusion:"
   ]
  },
  {
   "cell_type": "markdown",
   "metadata": {},
   "source": [
    "There is a problem in this algorithm in which the output loss is oscillating and it goes to infinit value. I tried to solve the problem but unfortunately, it did not solved. I hope to solve it in the future."
   ]
  }
 ],
 "metadata": {
  "kernelspec": {
   "display_name": "Python 3",
   "language": "python",
   "name": "python3"
  },
  "language_info": {
   "codemirror_mode": {
    "name": "ipython",
    "version": 3
   },
   "file_extension": ".py",
   "mimetype": "text/x-python",
   "name": "python",
   "nbconvert_exporter": "python",
   "pygments_lexer": "ipython3",
   "version": "3.7.4"
  }
 },
 "nbformat": 4,
 "nbformat_minor": 2
}
